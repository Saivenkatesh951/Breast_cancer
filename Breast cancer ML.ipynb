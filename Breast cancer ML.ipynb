{
  "nbformat": 4,
  "nbformat_minor": 0,
  "metadata": {
    "colab": {
      "name": "Untitled8.ipynb",
      "provenance": [],
      "collapsed_sections": []
    },
    "kernelspec": {
      "name": "python3",
      "display_name": "Python 3"
    }
  },
  "cells": [
    {
      "cell_type": "code",
      "metadata": {
        "id": "tatppmqpxH9v",
        "colab_type": "code",
        "colab": {}
      },
      "source": [
        "#importing necessary libraries\n",
        "import pandas as pd \n",
        "import numpy as np\n",
        "import matplotlib.pyplot as plt\n",
        "%matplotlib inline"
      ],
      "execution_count": 4,
      "outputs": []
    },
    {
      "cell_type": "code",
      "metadata": {
        "id": "xGKfwTYMwwPG",
        "colab_type": "code",
        "colab": {
          "base_uri": "https://localhost:8080/",
          "height": 456
        },
        "outputId": "be22b125-c82c-4d73-e3e5-e32287d8478c"
      },
      "source": [
        "#importing the datset and displaying first 5 rows\n",
        "data = pd.read_csv('datasets_180_408_data.csv')\n",
        "data"
      ],
      "execution_count": 59,
      "outputs": [
        {
          "output_type": "execute_result",
          "data": {
            "text/html": [
              "<div>\n",
              "<style scoped>\n",
              "    .dataframe tbody tr th:only-of-type {\n",
              "        vertical-align: middle;\n",
              "    }\n",
              "\n",
              "    .dataframe tbody tr th {\n",
              "        vertical-align: top;\n",
              "    }\n",
              "\n",
              "    .dataframe thead th {\n",
              "        text-align: right;\n",
              "    }\n",
              "</style>\n",
              "<table border=\"1\" class=\"dataframe\">\n",
              "  <thead>\n",
              "    <tr style=\"text-align: right;\">\n",
              "      <th></th>\n",
              "      <th>id</th>\n",
              "      <th>diagnosis</th>\n",
              "      <th>radius_mean</th>\n",
              "      <th>texture_mean</th>\n",
              "      <th>perimeter_mean</th>\n",
              "      <th>area_mean</th>\n",
              "      <th>smoothness_mean</th>\n",
              "      <th>compactness_mean</th>\n",
              "      <th>concavity_mean</th>\n",
              "      <th>concave points_mean</th>\n",
              "      <th>symmetry_mean</th>\n",
              "      <th>fractal_dimension_mean</th>\n",
              "      <th>radius_se</th>\n",
              "      <th>texture_se</th>\n",
              "      <th>perimeter_se</th>\n",
              "      <th>area_se</th>\n",
              "      <th>smoothness_se</th>\n",
              "      <th>compactness_se</th>\n",
              "      <th>concavity_se</th>\n",
              "      <th>concave points_se</th>\n",
              "      <th>symmetry_se</th>\n",
              "      <th>fractal_dimension_se</th>\n",
              "      <th>radius_worst</th>\n",
              "      <th>texture_worst</th>\n",
              "      <th>perimeter_worst</th>\n",
              "      <th>area_worst</th>\n",
              "      <th>smoothness_worst</th>\n",
              "      <th>compactness_worst</th>\n",
              "      <th>concavity_worst</th>\n",
              "      <th>concave points_worst</th>\n",
              "      <th>symmetry_worst</th>\n",
              "      <th>fractal_dimension_worst</th>\n",
              "      <th>Unnamed: 32</th>\n",
              "    </tr>\n",
              "  </thead>\n",
              "  <tbody>\n",
              "    <tr>\n",
              "      <th>0</th>\n",
              "      <td>842302</td>\n",
              "      <td>M</td>\n",
              "      <td>17.99</td>\n",
              "      <td>10.38</td>\n",
              "      <td>122.80</td>\n",
              "      <td>1001.0</td>\n",
              "      <td>0.11840</td>\n",
              "      <td>0.27760</td>\n",
              "      <td>0.30010</td>\n",
              "      <td>0.14710</td>\n",
              "      <td>0.2419</td>\n",
              "      <td>0.07871</td>\n",
              "      <td>1.0950</td>\n",
              "      <td>0.9053</td>\n",
              "      <td>8.589</td>\n",
              "      <td>153.40</td>\n",
              "      <td>0.006399</td>\n",
              "      <td>0.04904</td>\n",
              "      <td>0.05373</td>\n",
              "      <td>0.01587</td>\n",
              "      <td>0.03003</td>\n",
              "      <td>0.006193</td>\n",
              "      <td>25.380</td>\n",
              "      <td>17.33</td>\n",
              "      <td>184.60</td>\n",
              "      <td>2019.0</td>\n",
              "      <td>0.16220</td>\n",
              "      <td>0.66560</td>\n",
              "      <td>0.7119</td>\n",
              "      <td>0.2654</td>\n",
              "      <td>0.4601</td>\n",
              "      <td>0.11890</td>\n",
              "      <td>NaN</td>\n",
              "    </tr>\n",
              "    <tr>\n",
              "      <th>1</th>\n",
              "      <td>842517</td>\n",
              "      <td>M</td>\n",
              "      <td>20.57</td>\n",
              "      <td>17.77</td>\n",
              "      <td>132.90</td>\n",
              "      <td>1326.0</td>\n",
              "      <td>0.08474</td>\n",
              "      <td>0.07864</td>\n",
              "      <td>0.08690</td>\n",
              "      <td>0.07017</td>\n",
              "      <td>0.1812</td>\n",
              "      <td>0.05667</td>\n",
              "      <td>0.5435</td>\n",
              "      <td>0.7339</td>\n",
              "      <td>3.398</td>\n",
              "      <td>74.08</td>\n",
              "      <td>0.005225</td>\n",
              "      <td>0.01308</td>\n",
              "      <td>0.01860</td>\n",
              "      <td>0.01340</td>\n",
              "      <td>0.01389</td>\n",
              "      <td>0.003532</td>\n",
              "      <td>24.990</td>\n",
              "      <td>23.41</td>\n",
              "      <td>158.80</td>\n",
              "      <td>1956.0</td>\n",
              "      <td>0.12380</td>\n",
              "      <td>0.18660</td>\n",
              "      <td>0.2416</td>\n",
              "      <td>0.1860</td>\n",
              "      <td>0.2750</td>\n",
              "      <td>0.08902</td>\n",
              "      <td>NaN</td>\n",
              "    </tr>\n",
              "    <tr>\n",
              "      <th>2</th>\n",
              "      <td>84300903</td>\n",
              "      <td>M</td>\n",
              "      <td>19.69</td>\n",
              "      <td>21.25</td>\n",
              "      <td>130.00</td>\n",
              "      <td>1203.0</td>\n",
              "      <td>0.10960</td>\n",
              "      <td>0.15990</td>\n",
              "      <td>0.19740</td>\n",
              "      <td>0.12790</td>\n",
              "      <td>0.2069</td>\n",
              "      <td>0.05999</td>\n",
              "      <td>0.7456</td>\n",
              "      <td>0.7869</td>\n",
              "      <td>4.585</td>\n",
              "      <td>94.03</td>\n",
              "      <td>0.006150</td>\n",
              "      <td>0.04006</td>\n",
              "      <td>0.03832</td>\n",
              "      <td>0.02058</td>\n",
              "      <td>0.02250</td>\n",
              "      <td>0.004571</td>\n",
              "      <td>23.570</td>\n",
              "      <td>25.53</td>\n",
              "      <td>152.50</td>\n",
              "      <td>1709.0</td>\n",
              "      <td>0.14440</td>\n",
              "      <td>0.42450</td>\n",
              "      <td>0.4504</td>\n",
              "      <td>0.2430</td>\n",
              "      <td>0.3613</td>\n",
              "      <td>0.08758</td>\n",
              "      <td>NaN</td>\n",
              "    </tr>\n",
              "    <tr>\n",
              "      <th>3</th>\n",
              "      <td>84348301</td>\n",
              "      <td>M</td>\n",
              "      <td>11.42</td>\n",
              "      <td>20.38</td>\n",
              "      <td>77.58</td>\n",
              "      <td>386.1</td>\n",
              "      <td>0.14250</td>\n",
              "      <td>0.28390</td>\n",
              "      <td>0.24140</td>\n",
              "      <td>0.10520</td>\n",
              "      <td>0.2597</td>\n",
              "      <td>0.09744</td>\n",
              "      <td>0.4956</td>\n",
              "      <td>1.1560</td>\n",
              "      <td>3.445</td>\n",
              "      <td>27.23</td>\n",
              "      <td>0.009110</td>\n",
              "      <td>0.07458</td>\n",
              "      <td>0.05661</td>\n",
              "      <td>0.01867</td>\n",
              "      <td>0.05963</td>\n",
              "      <td>0.009208</td>\n",
              "      <td>14.910</td>\n",
              "      <td>26.50</td>\n",
              "      <td>98.87</td>\n",
              "      <td>567.7</td>\n",
              "      <td>0.20980</td>\n",
              "      <td>0.86630</td>\n",
              "      <td>0.6869</td>\n",
              "      <td>0.2575</td>\n",
              "      <td>0.6638</td>\n",
              "      <td>0.17300</td>\n",
              "      <td>NaN</td>\n",
              "    </tr>\n",
              "    <tr>\n",
              "      <th>4</th>\n",
              "      <td>84358402</td>\n",
              "      <td>M</td>\n",
              "      <td>20.29</td>\n",
              "      <td>14.34</td>\n",
              "      <td>135.10</td>\n",
              "      <td>1297.0</td>\n",
              "      <td>0.10030</td>\n",
              "      <td>0.13280</td>\n",
              "      <td>0.19800</td>\n",
              "      <td>0.10430</td>\n",
              "      <td>0.1809</td>\n",
              "      <td>0.05883</td>\n",
              "      <td>0.7572</td>\n",
              "      <td>0.7813</td>\n",
              "      <td>5.438</td>\n",
              "      <td>94.44</td>\n",
              "      <td>0.011490</td>\n",
              "      <td>0.02461</td>\n",
              "      <td>0.05688</td>\n",
              "      <td>0.01885</td>\n",
              "      <td>0.01756</td>\n",
              "      <td>0.005115</td>\n",
              "      <td>22.540</td>\n",
              "      <td>16.67</td>\n",
              "      <td>152.20</td>\n",
              "      <td>1575.0</td>\n",
              "      <td>0.13740</td>\n",
              "      <td>0.20500</td>\n",
              "      <td>0.4000</td>\n",
              "      <td>0.1625</td>\n",
              "      <td>0.2364</td>\n",
              "      <td>0.07678</td>\n",
              "      <td>NaN</td>\n",
              "    </tr>\n",
              "    <tr>\n",
              "      <th>...</th>\n",
              "      <td>...</td>\n",
              "      <td>...</td>\n",
              "      <td>...</td>\n",
              "      <td>...</td>\n",
              "      <td>...</td>\n",
              "      <td>...</td>\n",
              "      <td>...</td>\n",
              "      <td>...</td>\n",
              "      <td>...</td>\n",
              "      <td>...</td>\n",
              "      <td>...</td>\n",
              "      <td>...</td>\n",
              "      <td>...</td>\n",
              "      <td>...</td>\n",
              "      <td>...</td>\n",
              "      <td>...</td>\n",
              "      <td>...</td>\n",
              "      <td>...</td>\n",
              "      <td>...</td>\n",
              "      <td>...</td>\n",
              "      <td>...</td>\n",
              "      <td>...</td>\n",
              "      <td>...</td>\n",
              "      <td>...</td>\n",
              "      <td>...</td>\n",
              "      <td>...</td>\n",
              "      <td>...</td>\n",
              "      <td>...</td>\n",
              "      <td>...</td>\n",
              "      <td>...</td>\n",
              "      <td>...</td>\n",
              "      <td>...</td>\n",
              "      <td>...</td>\n",
              "    </tr>\n",
              "    <tr>\n",
              "      <th>564</th>\n",
              "      <td>926424</td>\n",
              "      <td>M</td>\n",
              "      <td>21.56</td>\n",
              "      <td>22.39</td>\n",
              "      <td>142.00</td>\n",
              "      <td>1479.0</td>\n",
              "      <td>0.11100</td>\n",
              "      <td>0.11590</td>\n",
              "      <td>0.24390</td>\n",
              "      <td>0.13890</td>\n",
              "      <td>0.1726</td>\n",
              "      <td>0.05623</td>\n",
              "      <td>1.1760</td>\n",
              "      <td>1.2560</td>\n",
              "      <td>7.673</td>\n",
              "      <td>158.70</td>\n",
              "      <td>0.010300</td>\n",
              "      <td>0.02891</td>\n",
              "      <td>0.05198</td>\n",
              "      <td>0.02454</td>\n",
              "      <td>0.01114</td>\n",
              "      <td>0.004239</td>\n",
              "      <td>25.450</td>\n",
              "      <td>26.40</td>\n",
              "      <td>166.10</td>\n",
              "      <td>2027.0</td>\n",
              "      <td>0.14100</td>\n",
              "      <td>0.21130</td>\n",
              "      <td>0.4107</td>\n",
              "      <td>0.2216</td>\n",
              "      <td>0.2060</td>\n",
              "      <td>0.07115</td>\n",
              "      <td>NaN</td>\n",
              "    </tr>\n",
              "    <tr>\n",
              "      <th>565</th>\n",
              "      <td>926682</td>\n",
              "      <td>M</td>\n",
              "      <td>20.13</td>\n",
              "      <td>28.25</td>\n",
              "      <td>131.20</td>\n",
              "      <td>1261.0</td>\n",
              "      <td>0.09780</td>\n",
              "      <td>0.10340</td>\n",
              "      <td>0.14400</td>\n",
              "      <td>0.09791</td>\n",
              "      <td>0.1752</td>\n",
              "      <td>0.05533</td>\n",
              "      <td>0.7655</td>\n",
              "      <td>2.4630</td>\n",
              "      <td>5.203</td>\n",
              "      <td>99.04</td>\n",
              "      <td>0.005769</td>\n",
              "      <td>0.02423</td>\n",
              "      <td>0.03950</td>\n",
              "      <td>0.01678</td>\n",
              "      <td>0.01898</td>\n",
              "      <td>0.002498</td>\n",
              "      <td>23.690</td>\n",
              "      <td>38.25</td>\n",
              "      <td>155.00</td>\n",
              "      <td>1731.0</td>\n",
              "      <td>0.11660</td>\n",
              "      <td>0.19220</td>\n",
              "      <td>0.3215</td>\n",
              "      <td>0.1628</td>\n",
              "      <td>0.2572</td>\n",
              "      <td>0.06637</td>\n",
              "      <td>NaN</td>\n",
              "    </tr>\n",
              "    <tr>\n",
              "      <th>566</th>\n",
              "      <td>926954</td>\n",
              "      <td>M</td>\n",
              "      <td>16.60</td>\n",
              "      <td>28.08</td>\n",
              "      <td>108.30</td>\n",
              "      <td>858.1</td>\n",
              "      <td>0.08455</td>\n",
              "      <td>0.10230</td>\n",
              "      <td>0.09251</td>\n",
              "      <td>0.05302</td>\n",
              "      <td>0.1590</td>\n",
              "      <td>0.05648</td>\n",
              "      <td>0.4564</td>\n",
              "      <td>1.0750</td>\n",
              "      <td>3.425</td>\n",
              "      <td>48.55</td>\n",
              "      <td>0.005903</td>\n",
              "      <td>0.03731</td>\n",
              "      <td>0.04730</td>\n",
              "      <td>0.01557</td>\n",
              "      <td>0.01318</td>\n",
              "      <td>0.003892</td>\n",
              "      <td>18.980</td>\n",
              "      <td>34.12</td>\n",
              "      <td>126.70</td>\n",
              "      <td>1124.0</td>\n",
              "      <td>0.11390</td>\n",
              "      <td>0.30940</td>\n",
              "      <td>0.3403</td>\n",
              "      <td>0.1418</td>\n",
              "      <td>0.2218</td>\n",
              "      <td>0.07820</td>\n",
              "      <td>NaN</td>\n",
              "    </tr>\n",
              "    <tr>\n",
              "      <th>567</th>\n",
              "      <td>927241</td>\n",
              "      <td>M</td>\n",
              "      <td>20.60</td>\n",
              "      <td>29.33</td>\n",
              "      <td>140.10</td>\n",
              "      <td>1265.0</td>\n",
              "      <td>0.11780</td>\n",
              "      <td>0.27700</td>\n",
              "      <td>0.35140</td>\n",
              "      <td>0.15200</td>\n",
              "      <td>0.2397</td>\n",
              "      <td>0.07016</td>\n",
              "      <td>0.7260</td>\n",
              "      <td>1.5950</td>\n",
              "      <td>5.772</td>\n",
              "      <td>86.22</td>\n",
              "      <td>0.006522</td>\n",
              "      <td>0.06158</td>\n",
              "      <td>0.07117</td>\n",
              "      <td>0.01664</td>\n",
              "      <td>0.02324</td>\n",
              "      <td>0.006185</td>\n",
              "      <td>25.740</td>\n",
              "      <td>39.42</td>\n",
              "      <td>184.60</td>\n",
              "      <td>1821.0</td>\n",
              "      <td>0.16500</td>\n",
              "      <td>0.86810</td>\n",
              "      <td>0.9387</td>\n",
              "      <td>0.2650</td>\n",
              "      <td>0.4087</td>\n",
              "      <td>0.12400</td>\n",
              "      <td>NaN</td>\n",
              "    </tr>\n",
              "    <tr>\n",
              "      <th>568</th>\n",
              "      <td>92751</td>\n",
              "      <td>B</td>\n",
              "      <td>7.76</td>\n",
              "      <td>24.54</td>\n",
              "      <td>47.92</td>\n",
              "      <td>181.0</td>\n",
              "      <td>0.05263</td>\n",
              "      <td>0.04362</td>\n",
              "      <td>0.00000</td>\n",
              "      <td>0.00000</td>\n",
              "      <td>0.1587</td>\n",
              "      <td>0.05884</td>\n",
              "      <td>0.3857</td>\n",
              "      <td>1.4280</td>\n",
              "      <td>2.548</td>\n",
              "      <td>19.15</td>\n",
              "      <td>0.007189</td>\n",
              "      <td>0.00466</td>\n",
              "      <td>0.00000</td>\n",
              "      <td>0.00000</td>\n",
              "      <td>0.02676</td>\n",
              "      <td>0.002783</td>\n",
              "      <td>9.456</td>\n",
              "      <td>30.37</td>\n",
              "      <td>59.16</td>\n",
              "      <td>268.6</td>\n",
              "      <td>0.08996</td>\n",
              "      <td>0.06444</td>\n",
              "      <td>0.0000</td>\n",
              "      <td>0.0000</td>\n",
              "      <td>0.2871</td>\n",
              "      <td>0.07039</td>\n",
              "      <td>NaN</td>\n",
              "    </tr>\n",
              "  </tbody>\n",
              "</table>\n",
              "<p>569 rows × 33 columns</p>\n",
              "</div>"
            ],
            "text/plain": [
              "           id diagnosis  ...  fractal_dimension_worst  Unnamed: 32\n",
              "0      842302         M  ...                  0.11890          NaN\n",
              "1      842517         M  ...                  0.08902          NaN\n",
              "2    84300903         M  ...                  0.08758          NaN\n",
              "3    84348301         M  ...                  0.17300          NaN\n",
              "4    84358402         M  ...                  0.07678          NaN\n",
              "..        ...       ...  ...                      ...          ...\n",
              "564    926424         M  ...                  0.07115          NaN\n",
              "565    926682         M  ...                  0.06637          NaN\n",
              "566    926954         M  ...                  0.07820          NaN\n",
              "567    927241         M  ...                  0.12400          NaN\n",
              "568     92751         B  ...                  0.07039          NaN\n",
              "\n",
              "[569 rows x 33 columns]"
            ]
          },
          "metadata": {
            "tags": []
          },
          "execution_count": 59
        }
      ]
    },
    {
      "cell_type": "code",
      "metadata": {
        "id": "LazpAlRlxqds",
        "colab_type": "code",
        "colab": {
          "base_uri": "https://localhost:8080/",
          "height": 595
        },
        "outputId": "ed6d367d-088e-4207-a85f-df4b760c4730"
      },
      "source": [
        "#checking for missing values\n",
        "data.isnull().sum()"
      ],
      "execution_count": 6,
      "outputs": [
        {
          "output_type": "execute_result",
          "data": {
            "text/plain": [
              "id                           0\n",
              "diagnosis                    0\n",
              "radius_mean                  0\n",
              "texture_mean                 0\n",
              "perimeter_mean               0\n",
              "area_mean                    0\n",
              "smoothness_mean              0\n",
              "compactness_mean             0\n",
              "concavity_mean               0\n",
              "concave points_mean          0\n",
              "symmetry_mean                0\n",
              "fractal_dimension_mean       0\n",
              "radius_se                    0\n",
              "texture_se                   0\n",
              "perimeter_se                 0\n",
              "area_se                      0\n",
              "smoothness_se                0\n",
              "compactness_se               0\n",
              "concavity_se                 0\n",
              "concave points_se            0\n",
              "symmetry_se                  0\n",
              "fractal_dimension_se         0\n",
              "radius_worst                 0\n",
              "texture_worst                0\n",
              "perimeter_worst              0\n",
              "area_worst                   0\n",
              "smoothness_worst             0\n",
              "compactness_worst            0\n",
              "concavity_worst              0\n",
              "concave points_worst         0\n",
              "symmetry_worst               0\n",
              "fractal_dimension_worst      0\n",
              "Unnamed: 32                569\n",
              "dtype: int64"
            ]
          },
          "metadata": {
            "tags": []
          },
          "execution_count": 6
        }
      ]
    },
    {
      "cell_type": "code",
      "metadata": {
        "id": "qr7X5ycrx0b2",
        "colab_type": "code",
        "colab": {
          "base_uri": "https://localhost:8080/",
          "height": 595
        },
        "outputId": "9728ab61-df75-4429-e59f-94e12518f8e8"
      },
      "source": [
        "#displaying the datatypes\n",
        "data.dtypes"
      ],
      "execution_count": 7,
      "outputs": [
        {
          "output_type": "execute_result",
          "data": {
            "text/plain": [
              "id                           int64\n",
              "diagnosis                   object\n",
              "radius_mean                float64\n",
              "texture_mean               float64\n",
              "perimeter_mean             float64\n",
              "area_mean                  float64\n",
              "smoothness_mean            float64\n",
              "compactness_mean           float64\n",
              "concavity_mean             float64\n",
              "concave points_mean        float64\n",
              "symmetry_mean              float64\n",
              "fractal_dimension_mean     float64\n",
              "radius_se                  float64\n",
              "texture_se                 float64\n",
              "perimeter_se               float64\n",
              "area_se                    float64\n",
              "smoothness_se              float64\n",
              "compactness_se             float64\n",
              "concavity_se               float64\n",
              "concave points_se          float64\n",
              "symmetry_se                float64\n",
              "fractal_dimension_se       float64\n",
              "radius_worst               float64\n",
              "texture_worst              float64\n",
              "perimeter_worst            float64\n",
              "area_worst                 float64\n",
              "smoothness_worst           float64\n",
              "compactness_worst          float64\n",
              "concavity_worst            float64\n",
              "concave points_worst       float64\n",
              "symmetry_worst             float64\n",
              "fractal_dimension_worst    float64\n",
              "Unnamed: 32                float64\n",
              "dtype: object"
            ]
          },
          "metadata": {
            "tags": []
          },
          "execution_count": 7
        }
      ]
    },
    {
      "cell_type": "code",
      "metadata": {
        "id": "dWOrdYoGyeYS",
        "colab_type": "code",
        "colab": {
          "base_uri": "https://localhost:8080/",
          "height": 221
        },
        "outputId": "89da2b02-2ce8-4238-e0c5-d65411bebf47"
      },
      "source": [
        "# assigning target variable to a varible\n",
        "y= data[\"diagnosis\"]\n",
        "y"
      ],
      "execution_count": 8,
      "outputs": [
        {
          "output_type": "execute_result",
          "data": {
            "text/plain": [
              "0      M\n",
              "1      M\n",
              "2      M\n",
              "3      M\n",
              "4      M\n",
              "      ..\n",
              "564    M\n",
              "565    M\n",
              "566    M\n",
              "567    M\n",
              "568    B\n",
              "Name: diagnosis, Length: 569, dtype: object"
            ]
          },
          "metadata": {
            "tags": []
          },
          "execution_count": 8
        }
      ]
    },
    {
      "cell_type": "code",
      "metadata": {
        "id": "Mx386xJPx9t2",
        "colab_type": "code",
        "colab": {
          "base_uri": "https://localhost:8080/",
          "height": 187
        },
        "outputId": "b46f0ab8-f3ec-4f79-9225-2bca7fa2aba8"
      },
      "source": [
        "#separating the target variable \n",
        "#X = data.drop(\"diagnosis\",axis = 1)\n",
        "x = data.drop([\"id\",\"diagnosis\",\"Unnamed: 32\"],axis = 1)\n",
        "x.columns"
      ],
      "execution_count": 9,
      "outputs": [
        {
          "output_type": "execute_result",
          "data": {
            "text/plain": [
              "Index(['radius_mean', 'texture_mean', 'perimeter_mean', 'area_mean',\n",
              "       'smoothness_mean', 'compactness_mean', 'concavity_mean',\n",
              "       'concave points_mean', 'symmetry_mean', 'fractal_dimension_mean',\n",
              "       'radius_se', 'texture_se', 'perimeter_se', 'area_se', 'smoothness_se',\n",
              "       'compactness_se', 'concavity_se', 'concave points_se', 'symmetry_se',\n",
              "       'fractal_dimension_se', 'radius_worst', 'texture_worst',\n",
              "       'perimeter_worst', 'area_worst', 'smoothness_worst',\n",
              "       'compactness_worst', 'concavity_worst', 'concave points_worst',\n",
              "       'symmetry_worst', 'fractal_dimension_worst'],\n",
              "      dtype='object')"
            ]
          },
          "metadata": {
            "tags": []
          },
          "execution_count": 9
        }
      ]
    },
    {
      "cell_type": "code",
      "metadata": {
        "id": "1NhEg-1B7wmY",
        "colab_type": "code",
        "colab": {}
      },
      "source": [
        "from sklearn.preprocessing import LabelEncoder\n",
        "labelencoder_y = LabelEncoder()\n",
        "y = labelencoder_y.fit_transform(y)"
      ],
      "execution_count": 10,
      "outputs": []
    },
    {
      "cell_type": "code",
      "metadata": {
        "id": "YueA85_30OYN",
        "colab_type": "code",
        "colab": {}
      },
      "source": [
        "# Importing the train test split function\n",
        "from sklearn.model_selection import train_test_split\n",
        "train_x,test_x,train_y,test_y = train_test_split(x,y, random_state = 56)"
      ],
      "execution_count": 11,
      "outputs": []
    },
    {
      "cell_type": "code",
      "metadata": {
        "id": "9PnF-UUh5rDb",
        "colab_type": "code",
        "colab": {}
      },
      "source": [
        "from sklearn.preprocessing import MinMaxScaler\n",
        "scaler = MinMaxScaler()"
      ],
      "execution_count": 12,
      "outputs": []
    },
    {
      "cell_type": "code",
      "metadata": {
        "id": "oe_Mn4Dz5zQp",
        "colab_type": "code",
        "colab": {
          "base_uri": "https://localhost:8080/",
          "height": 187
        },
        "outputId": "f40c2877-5c12-4c7e-8fbd-21de33e5b455"
      },
      "source": [
        "cols = train_x.columns\n",
        "cols"
      ],
      "execution_count": 13,
      "outputs": [
        {
          "output_type": "execute_result",
          "data": {
            "text/plain": [
              "Index(['radius_mean', 'texture_mean', 'perimeter_mean', 'area_mean',\n",
              "       'smoothness_mean', 'compactness_mean', 'concavity_mean',\n",
              "       'concave points_mean', 'symmetry_mean', 'fractal_dimension_mean',\n",
              "       'radius_se', 'texture_se', 'perimeter_se', 'area_se', 'smoothness_se',\n",
              "       'compactness_se', 'concavity_se', 'concave points_se', 'symmetry_se',\n",
              "       'fractal_dimension_se', 'radius_worst', 'texture_worst',\n",
              "       'perimeter_worst', 'area_worst', 'smoothness_worst',\n",
              "       'compactness_worst', 'concavity_worst', 'concave points_worst',\n",
              "       'symmetry_worst', 'fractal_dimension_worst'],\n",
              "      dtype='object')"
            ]
          },
          "metadata": {
            "tags": []
          },
          "execution_count": 13
        }
      ]
    },
    {
      "cell_type": "code",
      "metadata": {
        "id": "tyo4PMb1543t",
        "colab_type": "code",
        "colab": {
          "base_uri": "https://localhost:8080/",
          "height": 241
        },
        "outputId": "6dc8c186-5af4-4993-c32f-70ab3bc40d88"
      },
      "source": [
        "train_x_scaled = scaler.fit_transform(train_x)\n",
        "train_x_scaled = pd.DataFrame(train_x_scaled, columns=cols)\n",
        "train_x_scaled.head()"
      ],
      "execution_count": 14,
      "outputs": [
        {
          "output_type": "execute_result",
          "data": {
            "text/html": [
              "<div>\n",
              "<style scoped>\n",
              "    .dataframe tbody tr th:only-of-type {\n",
              "        vertical-align: middle;\n",
              "    }\n",
              "\n",
              "    .dataframe tbody tr th {\n",
              "        vertical-align: top;\n",
              "    }\n",
              "\n",
              "    .dataframe thead th {\n",
              "        text-align: right;\n",
              "    }\n",
              "</style>\n",
              "<table border=\"1\" class=\"dataframe\">\n",
              "  <thead>\n",
              "    <tr style=\"text-align: right;\">\n",
              "      <th></th>\n",
              "      <th>radius_mean</th>\n",
              "      <th>texture_mean</th>\n",
              "      <th>perimeter_mean</th>\n",
              "      <th>area_mean</th>\n",
              "      <th>smoothness_mean</th>\n",
              "      <th>compactness_mean</th>\n",
              "      <th>concavity_mean</th>\n",
              "      <th>concave points_mean</th>\n",
              "      <th>symmetry_mean</th>\n",
              "      <th>fractal_dimension_mean</th>\n",
              "      <th>radius_se</th>\n",
              "      <th>texture_se</th>\n",
              "      <th>perimeter_se</th>\n",
              "      <th>area_se</th>\n",
              "      <th>smoothness_se</th>\n",
              "      <th>compactness_se</th>\n",
              "      <th>concavity_se</th>\n",
              "      <th>concave points_se</th>\n",
              "      <th>symmetry_se</th>\n",
              "      <th>fractal_dimension_se</th>\n",
              "      <th>radius_worst</th>\n",
              "      <th>texture_worst</th>\n",
              "      <th>perimeter_worst</th>\n",
              "      <th>area_worst</th>\n",
              "      <th>smoothness_worst</th>\n",
              "      <th>compactness_worst</th>\n",
              "      <th>concavity_worst</th>\n",
              "      <th>concave points_worst</th>\n",
              "      <th>symmetry_worst</th>\n",
              "      <th>fractal_dimension_worst</th>\n",
              "    </tr>\n",
              "  </thead>\n",
              "  <tbody>\n",
              "    <tr>\n",
              "      <th>0</th>\n",
              "      <td>0.521984</td>\n",
              "      <td>0.450207</td>\n",
              "      <td>0.515583</td>\n",
              "      <td>0.366278</td>\n",
              "      <td>0.372584</td>\n",
              "      <td>0.409696</td>\n",
              "      <td>0.274133</td>\n",
              "      <td>0.385785</td>\n",
              "      <td>0.506674</td>\n",
              "      <td>0.223093</td>\n",
              "      <td>0.232953</td>\n",
              "      <td>0.205048</td>\n",
              "      <td>0.216558</td>\n",
              "      <td>0.154909</td>\n",
              "      <td>0.213618</td>\n",
              "      <td>0.237623</td>\n",
              "      <td>0.094369</td>\n",
              "      <td>0.312180</td>\n",
              "      <td>0.369285</td>\n",
              "      <td>0.107140</td>\n",
              "      <td>0.483814</td>\n",
              "      <td>0.374200</td>\n",
              "      <td>0.463121</td>\n",
              "      <td>0.304955</td>\n",
              "      <td>0.430859</td>\n",
              "      <td>0.199290</td>\n",
              "      <td>0.203195</td>\n",
              "      <td>0.511684</td>\n",
              "      <td>0.327309</td>\n",
              "      <td>0.138157</td>\n",
              "    </tr>\n",
              "    <tr>\n",
              "      <th>1</th>\n",
              "      <td>0.119409</td>\n",
              "      <td>0.113278</td>\n",
              "      <td>0.114367</td>\n",
              "      <td>0.055313</td>\n",
              "      <td>0.395381</td>\n",
              "      <td>0.170358</td>\n",
              "      <td>0.069260</td>\n",
              "      <td>0.103181</td>\n",
              "      <td>0.345969</td>\n",
              "      <td>0.398517</td>\n",
              "      <td>0.060040</td>\n",
              "      <td>0.136271</td>\n",
              "      <td>0.054281</td>\n",
              "      <td>0.016619</td>\n",
              "      <td>0.268314</td>\n",
              "      <td>0.115874</td>\n",
              "      <td>0.050126</td>\n",
              "      <td>0.269180</td>\n",
              "      <td>0.200396</td>\n",
              "      <td>0.071625</td>\n",
              "      <td>0.081821</td>\n",
              "      <td>0.097015</td>\n",
              "      <td>0.073310</td>\n",
              "      <td>0.031877</td>\n",
              "      <td>0.441679</td>\n",
              "      <td>0.084903</td>\n",
              "      <td>0.070823</td>\n",
              "      <td>0.213986</td>\n",
              "      <td>0.168222</td>\n",
              "      <td>0.147876</td>\n",
              "    </tr>\n",
              "    <tr>\n",
              "      <th>2</th>\n",
              "      <td>0.477969</td>\n",
              "      <td>0.723651</td>\n",
              "      <td>0.465828</td>\n",
              "      <td>0.333998</td>\n",
              "      <td>0.361483</td>\n",
              "      <td>0.342735</td>\n",
              "      <td>0.235942</td>\n",
              "      <td>0.319632</td>\n",
              "      <td>0.334223</td>\n",
              "      <td>0.266314</td>\n",
              "      <td>0.296071</td>\n",
              "      <td>0.174991</td>\n",
              "      <td>0.249446</td>\n",
              "      <td>0.202462</td>\n",
              "      <td>0.238875</td>\n",
              "      <td>0.191439</td>\n",
              "      <td>0.068712</td>\n",
              "      <td>0.276189</td>\n",
              "      <td>0.203890</td>\n",
              "      <td>0.121685</td>\n",
              "      <td>0.534685</td>\n",
              "      <td>0.598881</td>\n",
              "      <td>0.506450</td>\n",
              "      <td>0.359516</td>\n",
              "      <td>0.640770</td>\n",
              "      <td>0.210641</td>\n",
              "      <td>0.210783</td>\n",
              "      <td>0.534364</td>\n",
              "      <td>0.279444</td>\n",
              "      <td>0.232386</td>\n",
              "    </tr>\n",
              "    <tr>\n",
              "      <th>3</th>\n",
              "      <td>0.334091</td>\n",
              "      <td>0.260166</td>\n",
              "      <td>0.317808</td>\n",
              "      <td>0.198388</td>\n",
              "      <td>0.218753</td>\n",
              "      <td>0.148025</td>\n",
              "      <td>0.082802</td>\n",
              "      <td>0.146322</td>\n",
              "      <td>0.292045</td>\n",
              "      <td>0.185169</td>\n",
              "      <td>0.100561</td>\n",
              "      <td>0.151565</td>\n",
              "      <td>0.088913</td>\n",
              "      <td>0.048446</td>\n",
              "      <td>0.212904</td>\n",
              "      <td>0.102719</td>\n",
              "      <td>0.040606</td>\n",
              "      <td>0.171358</td>\n",
              "      <td>0.196125</td>\n",
              "      <td>0.066857</td>\n",
              "      <td>0.274991</td>\n",
              "      <td>0.254797</td>\n",
              "      <td>0.252951</td>\n",
              "      <td>0.138812</td>\n",
              "      <td>0.348626</td>\n",
              "      <td>0.094993</td>\n",
              "      <td>0.089217</td>\n",
              "      <td>0.256117</td>\n",
              "      <td>0.222840</td>\n",
              "      <td>0.112483</td>\n",
              "    </tr>\n",
              "    <tr>\n",
              "      <th>4</th>\n",
              "      <td>0.488381</td>\n",
              "      <td>0.305809</td>\n",
              "      <td>0.478267</td>\n",
              "      <td>0.332853</td>\n",
              "      <td>0.379522</td>\n",
              "      <td>0.316924</td>\n",
              "      <td>0.296626</td>\n",
              "      <td>0.415159</td>\n",
              "      <td>0.344901</td>\n",
              "      <td>0.124788</td>\n",
              "      <td>0.071628</td>\n",
              "      <td>0.109751</td>\n",
              "      <td>0.067662</td>\n",
              "      <td>0.050109</td>\n",
              "      <td>0.103478</td>\n",
              "      <td>0.122691</td>\n",
              "      <td>0.058889</td>\n",
              "      <td>0.239060</td>\n",
              "      <td>0.077514</td>\n",
              "      <td>0.050689</td>\n",
              "      <td>0.424048</td>\n",
              "      <td>0.348348</td>\n",
              "      <td>0.400867</td>\n",
              "      <td>0.254817</td>\n",
              "      <td>0.508043</td>\n",
              "      <td>0.206857</td>\n",
              "      <td>0.269808</td>\n",
              "      <td>0.638144</td>\n",
              "      <td>0.304866</td>\n",
              "      <td>0.170202</td>\n",
              "    </tr>\n",
              "  </tbody>\n",
              "</table>\n",
              "</div>"
            ],
            "text/plain": [
              "   radius_mean  texture_mean  ...  symmetry_worst  fractal_dimension_worst\n",
              "0     0.521984      0.450207  ...        0.327309                 0.138157\n",
              "1     0.119409      0.113278  ...        0.168222                 0.147876\n",
              "2     0.477969      0.723651  ...        0.279444                 0.232386\n",
              "3     0.334091      0.260166  ...        0.222840                 0.112483\n",
              "4     0.488381      0.305809  ...        0.304866                 0.170202\n",
              "\n",
              "[5 rows x 30 columns]"
            ]
          },
          "metadata": {
            "tags": []
          },
          "execution_count": 14
        }
      ]
    },
    {
      "cell_type": "code",
      "metadata": {
        "id": "XXiUdQUn592M",
        "colab_type": "code",
        "colab": {
          "base_uri": "https://localhost:8080/",
          "height": 241
        },
        "outputId": "d50ae807-2764-4a55-b773-b912eeaf6780"
      },
      "source": [
        "test_x_scaled = scaler.transform(test_x)\n",
        "test_x_scaled = pd.DataFrame(test_x_scaled, columns=cols)\n",
        "test_x_scaled.head()"
      ],
      "execution_count": 15,
      "outputs": [
        {
          "output_type": "execute_result",
          "data": {
            "text/html": [
              "<div>\n",
              "<style scoped>\n",
              "    .dataframe tbody tr th:only-of-type {\n",
              "        vertical-align: middle;\n",
              "    }\n",
              "\n",
              "    .dataframe tbody tr th {\n",
              "        vertical-align: top;\n",
              "    }\n",
              "\n",
              "    .dataframe thead th {\n",
              "        text-align: right;\n",
              "    }\n",
              "</style>\n",
              "<table border=\"1\" class=\"dataframe\">\n",
              "  <thead>\n",
              "    <tr style=\"text-align: right;\">\n",
              "      <th></th>\n",
              "      <th>radius_mean</th>\n",
              "      <th>texture_mean</th>\n",
              "      <th>perimeter_mean</th>\n",
              "      <th>area_mean</th>\n",
              "      <th>smoothness_mean</th>\n",
              "      <th>compactness_mean</th>\n",
              "      <th>concavity_mean</th>\n",
              "      <th>concave points_mean</th>\n",
              "      <th>symmetry_mean</th>\n",
              "      <th>fractal_dimension_mean</th>\n",
              "      <th>radius_se</th>\n",
              "      <th>texture_se</th>\n",
              "      <th>perimeter_se</th>\n",
              "      <th>area_se</th>\n",
              "      <th>smoothness_se</th>\n",
              "      <th>compactness_se</th>\n",
              "      <th>concavity_se</th>\n",
              "      <th>concave points_se</th>\n",
              "      <th>symmetry_se</th>\n",
              "      <th>fractal_dimension_se</th>\n",
              "      <th>radius_worst</th>\n",
              "      <th>texture_worst</th>\n",
              "      <th>perimeter_worst</th>\n",
              "      <th>area_worst</th>\n",
              "      <th>smoothness_worst</th>\n",
              "      <th>compactness_worst</th>\n",
              "      <th>concavity_worst</th>\n",
              "      <th>concave points_worst</th>\n",
              "      <th>symmetry_worst</th>\n",
              "      <th>fractal_dimension_worst</th>\n",
              "    </tr>\n",
              "  </thead>\n",
              "  <tbody>\n",
              "    <tr>\n",
              "      <th>0</th>\n",
              "      <td>0.552747</td>\n",
              "      <td>0.307469</td>\n",
              "      <td>0.536314</td>\n",
              "      <td>0.395970</td>\n",
              "      <td>0.425116</td>\n",
              "      <td>0.338994</td>\n",
              "      <td>0.341378</td>\n",
              "      <td>0.430666</td>\n",
              "      <td>0.426588</td>\n",
              "      <td>0.251907</td>\n",
              "      <td>0.217744</td>\n",
              "      <td>0.269802</td>\n",
              "      <td>0.194977</td>\n",
              "      <td>0.156273</td>\n",
              "      <td>0.217187</td>\n",
              "      <td>0.180109</td>\n",
              "      <td>0.084394</td>\n",
              "      <td>0.303277</td>\n",
              "      <td>0.203890</td>\n",
              "      <td>0.126971</td>\n",
              "      <td>0.509427</td>\n",
              "      <td>0.343284</td>\n",
              "      <td>0.473081</td>\n",
              "      <td>0.335185</td>\n",
              "      <td>0.570800</td>\n",
              "      <td>0.195797</td>\n",
              "      <td>0.261342</td>\n",
              "      <td>0.575258</td>\n",
              "      <td>0.256405</td>\n",
              "      <td>0.192724</td>\n",
              "    </tr>\n",
              "    <tr>\n",
              "      <th>1</th>\n",
              "      <td>0.192106</td>\n",
              "      <td>0.295436</td>\n",
              "      <td>0.187478</td>\n",
              "      <td>0.097434</td>\n",
              "      <td>0.447914</td>\n",
              "      <td>0.219437</td>\n",
              "      <td>0.071368</td>\n",
              "      <td>0.123260</td>\n",
              "      <td>0.292045</td>\n",
              "      <td>0.278814</td>\n",
              "      <td>0.030853</td>\n",
              "      <td>0.226927</td>\n",
              "      <td>0.027564</td>\n",
              "      <td>0.012585</td>\n",
              "      <td>0.117109</td>\n",
              "      <td>0.068201</td>\n",
              "      <td>0.026667</td>\n",
              "      <td>0.141750</td>\n",
              "      <td>0.140411</td>\n",
              "      <td>0.045023</td>\n",
              "      <td>0.159374</td>\n",
              "      <td>0.384328</td>\n",
              "      <td>0.147019</td>\n",
              "      <td>0.070340</td>\n",
              "      <td>0.474140</td>\n",
              "      <td>0.117307</td>\n",
              "      <td>0.085224</td>\n",
              "      <td>0.255361</td>\n",
              "      <td>0.277061</td>\n",
              "      <td>0.154967</td>\n",
              "    </tr>\n",
              "    <tr>\n",
              "      <th>2</th>\n",
              "      <td>0.246060</td>\n",
              "      <td>0.448548</td>\n",
              "      <td>0.231014</td>\n",
              "      <td>0.133701</td>\n",
              "      <td>0.174646</td>\n",
              "      <td>0.078558</td>\n",
              "      <td>0.055834</td>\n",
              "      <td>0.087972</td>\n",
              "      <td>0.305392</td>\n",
              "      <td>0.138347</td>\n",
              "      <td>0.029296</td>\n",
              "      <td>0.267592</td>\n",
              "      <td>0.020073</td>\n",
              "      <td>0.014714</td>\n",
              "      <td>0.114458</td>\n",
              "      <td>0.036928</td>\n",
              "      <td>0.026995</td>\n",
              "      <td>0.128755</td>\n",
              "      <td>0.087803</td>\n",
              "      <td>0.022014</td>\n",
              "      <td>0.192458</td>\n",
              "      <td>0.554904</td>\n",
              "      <td>0.170178</td>\n",
              "      <td>0.089117</td>\n",
              "      <td>0.296689</td>\n",
              "      <td>0.059503</td>\n",
              "      <td>0.091454</td>\n",
              "      <td>0.255361</td>\n",
              "      <td>0.216683</td>\n",
              "      <td>0.089106</td>\n",
              "    </tr>\n",
              "    <tr>\n",
              "      <th>3</th>\n",
              "      <td>0.155190</td>\n",
              "      <td>0.104149</td>\n",
              "      <td>0.151752</td>\n",
              "      <td>0.075546</td>\n",
              "      <td>0.371196</td>\n",
              "      <td>0.209636</td>\n",
              "      <td>0.045056</td>\n",
              "      <td>0.097813</td>\n",
              "      <td>0.337960</td>\n",
              "      <td>0.327331</td>\n",
              "      <td>0.028825</td>\n",
              "      <td>0.041438</td>\n",
              "      <td>0.027847</td>\n",
              "      <td>0.009485</td>\n",
              "      <td>0.134922</td>\n",
              "      <td>0.109440</td>\n",
              "      <td>0.021455</td>\n",
              "      <td>0.131256</td>\n",
              "      <td>0.183119</td>\n",
              "      <td>0.051000</td>\n",
              "      <td>0.122732</td>\n",
              "      <td>0.096748</td>\n",
              "      <td>0.113651</td>\n",
              "      <td>0.051440</td>\n",
              "      <td>0.455385</td>\n",
              "      <td>0.133607</td>\n",
              "      <td>0.068810</td>\n",
              "      <td>0.230103</td>\n",
              "      <td>0.264945</td>\n",
              "      <td>0.144527</td>\n",
              "    </tr>\n",
              "    <tr>\n",
              "      <th>4</th>\n",
              "      <td>0.517251</td>\n",
              "      <td>0.469295</td>\n",
              "      <td>0.557045</td>\n",
              "      <td>0.360764</td>\n",
              "      <td>0.599564</td>\n",
              "      <td>0.891142</td>\n",
              "      <td>0.747188</td>\n",
              "      <td>0.595427</td>\n",
              "      <td>0.505072</td>\n",
              "      <td>0.443008</td>\n",
              "      <td>0.105559</td>\n",
              "      <td>0.091606</td>\n",
              "      <td>0.111483</td>\n",
              "      <td>0.064827</td>\n",
              "      <td>0.185131</td>\n",
              "      <td>0.335369</td>\n",
              "      <td>0.155682</td>\n",
              "      <td>0.199091</td>\n",
              "      <td>0.115757</td>\n",
              "      <td>0.145247</td>\n",
              "      <td>0.457844</td>\n",
              "      <td>0.420043</td>\n",
              "      <td>0.493999</td>\n",
              "      <td>0.274971</td>\n",
              "      <td>0.837697</td>\n",
              "      <td>0.547593</td>\n",
              "      <td>0.721565</td>\n",
              "      <td>0.674914</td>\n",
              "      <td>0.326117</td>\n",
              "      <td>0.424125</td>\n",
              "    </tr>\n",
              "  </tbody>\n",
              "</table>\n",
              "</div>"
            ],
            "text/plain": [
              "   radius_mean  texture_mean  ...  symmetry_worst  fractal_dimension_worst\n",
              "0     0.552747      0.307469  ...        0.256405                 0.192724\n",
              "1     0.192106      0.295436  ...        0.277061                 0.154967\n",
              "2     0.246060      0.448548  ...        0.216683                 0.089106\n",
              "3     0.155190      0.104149  ...        0.264945                 0.144527\n",
              "4     0.517251      0.469295  ...        0.326117                 0.424125\n",
              "\n",
              "[5 rows x 30 columns]"
            ]
          },
          "metadata": {
            "tags": []
          },
          "execution_count": 15
        }
      ]
    },
    {
      "cell_type": "markdown",
      "metadata": {
        "id": "gPtdwI57p07Q",
        "colab_type": "text"
      },
      "source": [
        "**Logistic Regression**"
      ]
    },
    {
      "cell_type": "code",
      "metadata": {
        "id": "-elBTCF96DV5",
        "colab_type": "code",
        "colab": {}
      },
      "source": [
        "#importing Logistic Regression and metric F1-score\n",
        "from sklearn.linear_model import LogisticRegression as LogReg\n",
        "from sklearn.metrics import f1_score"
      ],
      "execution_count": 16,
      "outputs": []
    },
    {
      "cell_type": "code",
      "metadata": {
        "id": "l66e8SwF6ISO",
        "colab_type": "code",
        "colab": {
          "base_uri": "https://localhost:8080/",
          "height": 102
        },
        "outputId": "da788c3b-8886-491d-f572-015c012fb376"
      },
      "source": [
        "# Creating instance of Logistic Regresssion\n",
        "logreg = LogReg(C=10)\n",
        "\n",
        "# Fitting the model\n",
        "logreg.fit(train_x_scaled, train_y)"
      ],
      "execution_count": 17,
      "outputs": [
        {
          "output_type": "execute_result",
          "data": {
            "text/plain": [
              "LogisticRegression(C=10, class_weight=None, dual=False, fit_intercept=True,\n",
              "                   intercept_scaling=1, l1_ratio=None, max_iter=100,\n",
              "                   multi_class='auto', n_jobs=None, penalty='l2',\n",
              "                   random_state=None, solver='lbfgs', tol=0.0001, verbose=0,\n",
              "                   warm_start=False)"
            ]
          },
          "metadata": {
            "tags": []
          },
          "execution_count": 17
        }
      ]
    },
    {
      "cell_type": "code",
      "metadata": {
        "id": "rbqaCOOj6RGY",
        "colab_type": "code",
        "colab": {
          "base_uri": "https://localhost:8080/",
          "height": 357
        },
        "outputId": "cd746e32-b582-4c30-bd8b-1c9f07ee91ae"
      },
      "source": [
        "# Predicting over the Train\n",
        "train_predict = logreg.predict(train_x_scaled)\n",
        "train_predict"
      ],
      "execution_count": 18,
      "outputs": [
        {
          "output_type": "execute_result",
          "data": {
            "text/plain": [
              "array([1, 0, 1, 0, 1, 0, 1, 0, 0, 0, 1, 0, 1, 1, 0, 0, 1, 0, 0, 0, 0, 0,\n",
              "       1, 1, 0, 0, 0, 1, 1, 0, 1, 0, 0, 0, 1, 0, 0, 0, 0, 0, 0, 1, 1, 0,\n",
              "       1, 0, 1, 0, 1, 1, 1, 0, 0, 0, 0, 1, 1, 0, 1, 1, 0, 1, 0, 0, 1, 0,\n",
              "       0, 0, 0, 1, 1, 0, 0, 1, 0, 0, 0, 1, 0, 0, 0, 0, 1, 0, 0, 0, 0, 0,\n",
              "       0, 0, 0, 0, 1, 0, 0, 0, 0, 0, 0, 0, 0, 0, 0, 1, 0, 0, 0, 1, 0, 1,\n",
              "       1, 1, 0, 0, 0, 1, 0, 1, 0, 0, 0, 0, 1, 0, 1, 0, 0, 0, 0, 1, 1, 0,\n",
              "       1, 1, 0, 1, 1, 0, 0, 0, 1, 0, 1, 1, 0, 1, 0, 1, 0, 0, 0, 0, 0, 1,\n",
              "       1, 0, 1, 0, 0, 1, 0, 1, 0, 0, 0, 0, 0, 0, 0, 0, 0, 0, 0, 0, 0, 1,\n",
              "       0, 0, 1, 0, 0, 0, 0, 0, 1, 1, 0, 1, 0, 0, 0, 0, 1, 0, 0, 0, 0, 0,\n",
              "       0, 1, 0, 0, 0, 0, 0, 1, 1, 0, 0, 1, 0, 0, 0, 0, 0, 1, 0, 0, 1, 0,\n",
              "       0, 0, 0, 1, 0, 0, 0, 0, 1, 0, 1, 0, 0, 1, 0, 0, 1, 0, 0, 0, 0, 0,\n",
              "       0, 1, 0, 0, 0, 0, 0, 1, 1, 0, 1, 0, 1, 0, 0, 0, 0, 1, 1, 1, 0, 1,\n",
              "       0, 0, 0, 1, 0, 1, 0, 1, 0, 1, 0, 0, 0, 0, 1, 1, 1, 1, 0, 0, 1, 0,\n",
              "       0, 0, 0, 0, 0, 1, 1, 1, 0, 1, 1, 0, 1, 1, 0, 1, 1, 1, 0, 1, 0, 0,\n",
              "       1, 1, 0, 0, 1, 1, 0, 0, 0, 1, 0, 1, 0, 0, 0, 0, 0, 1, 0, 0, 0, 1,\n",
              "       0, 0, 0, 0, 1, 0, 0, 0, 1, 0, 1, 0, 0, 1, 0, 0, 0, 1, 0, 0, 1, 0,\n",
              "       0, 0, 1, 0, 0, 0, 0, 0, 1, 1, 0, 0, 0, 1, 0, 1, 1, 0, 0, 0, 0, 0,\n",
              "       0, 0, 0, 0, 0, 1, 0, 1, 0, 1, 0, 0, 1, 0, 0, 1, 0, 0, 1, 1, 0, 0,\n",
              "       0, 0, 1, 1, 0, 0, 0, 1, 1, 1, 0, 0, 1, 0, 1, 0, 1, 0, 0, 1, 0, 1,\n",
              "       1, 1, 1, 0, 0, 0, 0, 0])"
            ]
          },
          "metadata": {
            "tags": []
          },
          "execution_count": 18
        }
      ]
    },
    {
      "cell_type": "code",
      "metadata": {
        "id": "R29KeyWH65_i",
        "colab_type": "code",
        "colab": {
          "base_uri": "https://localhost:8080/",
          "height": 34
        },
        "outputId": "ebb7d016-b093-4f7c-fe20-02083e50e9c9"
      },
      "source": [
        "# Calculating f1-score\n",
        "k = f1_score(train_predict, train_y)\n",
        "print('Training f1_score', k )"
      ],
      "execution_count": 19,
      "outputs": [
        {
          "output_type": "stream",
          "text": [
            "Training f1_score 0.9727891156462586\n"
          ],
          "name": "stdout"
        }
      ]
    },
    {
      "cell_type": "code",
      "metadata": {
        "id": "T7ezLAdf7NFk",
        "colab_type": "code",
        "colab": {
          "base_uri": "https://localhost:8080/",
          "height": 34
        },
        "outputId": "f3e401c3-ead5-4a46-ea58-0b4bac1d4b50"
      },
      "source": [
        "# Predicting over the Test Set and f1-score\n",
        "test_predict = logreg.predict(test_x)\n",
        "k = f1_score(test_predict, test_y)\n",
        "print('Test f1_score    ', k )"
      ],
      "execution_count": 20,
      "outputs": [
        {
          "output_type": "stream",
          "text": [
            "Test f1_score     0.6048780487804878\n"
          ],
          "name": "stdout"
        }
      ]
    },
    {
      "cell_type": "code",
      "metadata": {
        "id": "M0xtqg9Y8R5R",
        "colab_type": "code",
        "colab": {
          "base_uri": "https://localhost:8080/",
          "height": 34
        },
        "outputId": "c7c404d8-e426-426c-adbe-5312fd59e9b1"
      },
      "source": [
        "score = logreg.score(test_x_scaled,test_y)\n",
        "score"
      ],
      "execution_count": 21,
      "outputs": [
        {
          "output_type": "execute_result",
          "data": {
            "text/plain": [
              "0.986013986013986"
            ]
          },
          "metadata": {
            "tags": []
          },
          "execution_count": 21
        }
      ]
    },
    {
      "cell_type": "code",
      "metadata": {
        "id": "pwtXDya25DKr",
        "colab_type": "code",
        "colab": {
          "base_uri": "https://localhost:8080/",
          "height": 34
        },
        "outputId": "59c91423-dcfc-439a-aa64-7c0570fc94aa"
      },
      "source": [
        "score1 = logreg.score(train_x_scaled,train_y)\n",
        "score1"
      ],
      "execution_count": 22,
      "outputs": [
        {
          "output_type": "execute_result",
          "data": {
            "text/plain": [
              "0.9812206572769953"
            ]
          },
          "metadata": {
            "tags": []
          },
          "execution_count": 22
        }
      ]
    },
    {
      "cell_type": "markdown",
      "metadata": {
        "id": "adZNSNBdqERy",
        "colab_type": "text"
      },
      "source": [
        "# **Linear SVC**"
      ]
    },
    {
      "cell_type": "code",
      "metadata": {
        "id": "vYFGfNJ45OPQ",
        "colab_type": "code",
        "colab": {
          "base_uri": "https://localhost:8080/",
          "height": 102
        },
        "outputId": "4d9236bf-0683-42b4-88a7-32c4d194a10a"
      },
      "source": [
        "from sklearn.svm import LinearSVC\n",
        "#X_train, X_test, y_train, y_test = train_test_split(train_x_scaled, test_x_scaled, random_state = 0)\n",
        "\n",
        "clf = LinearSVC(C=20).fit(train_x_scaled, train_y)\n",
        "print('Breast cancer dataset')\n",
        "print('Accuracy of Linear SVC classifier on training set: {:.2f}'\n",
        "     .format(clf.score(train_x_scaled, train_y)))\n",
        "print('Accuracy of Linear SVC classifier on test set: {:.2f}'\n",
        "     .format(clf.score(test_x_scaled, test_y)))"
      ],
      "execution_count": 23,
      "outputs": [
        {
          "output_type": "stream",
          "text": [
            "Breast cancer dataset\n",
            "Accuracy of Linear SVC classifier on training set: 0.99\n",
            "Accuracy of Linear SVC classifier on test set: 0.98\n"
          ],
          "name": "stdout"
        },
        {
          "output_type": "stream",
          "text": [
            "/usr/local/lib/python3.6/dist-packages/sklearn/svm/_base.py:947: ConvergenceWarning: Liblinear failed to converge, increase the number of iterations.\n",
            "  \"the number of iterations.\", ConvergenceWarning)\n"
          ],
          "name": "stderr"
        }
      ]
    },
    {
      "cell_type": "markdown",
      "metadata": {
        "id": "nperXVchrSlJ",
        "colab_type": "text"
      },
      "source": [
        "**support vector machine with RBF Kernel**\n",
        "\n",
        "\n",
        "\n"
      ]
    },
    {
      "cell_type": "code",
      "metadata": {
        "id": "OnaNYXFbrxvl",
        "colab_type": "code",
        "colab": {}
      },
      "source": [
        ""
      ],
      "execution_count": 23,
      "outputs": []
    },
    {
      "cell_type": "code",
      "metadata": {
        "id": "wFx5JdfXq7-R",
        "colab_type": "code",
        "colab": {
          "base_uri": "https://localhost:8080/",
          "height": 68
        },
        "outputId": "8d41069d-b103-4a53-ef38-d2a8e574e226"
      },
      "source": [
        "from sklearn.svm import SVC\n",
        "clf = SVC(C=20).fit(train_x_scaled, train_y)\n",
        "print('Breast cancer dataset (unnormalized features)')\n",
        "print('Accuracy of RBF-kernel SVC on training set: {:.2f}'\n",
        "     .format(clf.score(train_x_scaled, train_y)))\n",
        "print('Accuracy of RBF-kernel SVC on test set: {:.2f}'\n",
        "     .format(clf.score(test_x_scaled, test_y)))"
      ],
      "execution_count": 24,
      "outputs": [
        {
          "output_type": "stream",
          "text": [
            "Breast cancer dataset (unnormalized features)\n",
            "Accuracy of RBF-kernel SVC on training set: 0.99\n",
            "Accuracy of RBF-kernel SVC on test set: 0.98\n"
          ],
          "name": "stdout"
        }
      ]
    },
    {
      "cell_type": "markdown",
      "metadata": {
        "id": "6bYK_Wn8tSZ1",
        "colab_type": "text"
      },
      "source": [
        "# **Decission Trees**"
      ]
    },
    {
      "cell_type": "code",
      "metadata": {
        "id": "j-33V35OtkyT",
        "colab_type": "code",
        "colab": {
          "base_uri": "https://localhost:8080/",
          "height": 68
        },
        "outputId": "9f476d0b-2120-48c1-9db9-cdfcc674d4b0"
      },
      "source": [
        "from sklearn.tree import DecisionTreeClassifier\n",
        "#from adspy_shared_utilities import plot_decision_tree\n",
        "#from adspy_shared_utilities import plot_feature_importances\n",
        "\n",
        "#X_train, X_test, y_train, y_test = train_test_split( random_state = 0)\n",
        "\n",
        "clf = DecisionTreeClassifier(max_depth = 5, min_samples_leaf = 6,\n",
        "                            random_state = 0).fit(train_x_scaled, train_y)\n",
        "\n",
        "#plot_decision_tree(clf, cancer.feature_names, cancer.target_names)\n",
        "print('Breast cancer dataset: decision tree')\n",
        "print('Accuracy of DT classifier on training set: {:.2f}'\n",
        "     .format(clf.score(train_x_scaled, train_y)))\n",
        "print('Accuracy of DT classifier on test set: {:.2f}'\n",
        "     .format(clf.score(test_x_scaled, test_y)))\n",
        "\n",
        "#plt.figure(figsize=(10,6),dpi=80)\n",
        "#plot_feature_importances(clf, cancer.feature_names)\n",
        "#plt.tight_layout()\n",
        "\n",
        "#plt.show()"
      ],
      "execution_count": 25,
      "outputs": [
        {
          "output_type": "stream",
          "text": [
            "Breast cancer dataset: decision tree\n",
            "Accuracy of DT classifier on training set: 0.97\n",
            "Accuracy of DT classifier on test set: 0.96\n"
          ],
          "name": "stdout"
        }
      ]
    },
    {
      "cell_type": "markdown",
      "metadata": {
        "id": "euN9n-RmP6IM",
        "colab_type": "text"
      },
      "source": [
        "# **Naive bayes classifiers**"
      ]
    },
    {
      "cell_type": "code",
      "metadata": {
        "id": "sFl0FH1luqWX",
        "colab_type": "code",
        "colab": {
          "base_uri": "https://localhost:8080/",
          "height": 68
        },
        "outputId": "101e639e-9200-4085-a227-404fe7ca09aa"
      },
      "source": [
        "from sklearn.naive_bayes import GaussianNB\n",
        "nbclf = GaussianNB().fit(train_x_scaled,train_y)\n",
        "print('Breast cancer dataset')\n",
        "print('Accuracy of GaussianNB classifier on training set: {:.2f}'\n",
        "     .format(nbclf.score(train_x_scaled,train_y)))\n",
        "print('Accuracy of GaussianNB classifier on test set: {:.2f}'\n",
        "     .format(nbclf.score(test_x_scaled,test_y)))"
      ],
      "execution_count": 29,
      "outputs": [
        {
          "output_type": "stream",
          "text": [
            "Breast cancer dataset\n",
            "Accuracy of GaussianNB classifier on training set: 0.93\n",
            "Accuracy of GaussianNB classifier on test set: 0.98\n"
          ],
          "name": "stdout"
        }
      ]
    },
    {
      "cell_type": "markdown",
      "metadata": {
        "id": "NRZjatFXROcz",
        "colab_type": "text"
      },
      "source": [
        "# **Random forest classifiers**"
      ]
    },
    {
      "cell_type": "code",
      "metadata": {
        "id": "o7Vb-t_YQu9o",
        "colab_type": "code",
        "colab": {
          "base_uri": "https://localhost:8080/",
          "height": 68
        },
        "outputId": "6c06508d-dcf9-4bf4-ece1-08abf93a5a75"
      },
      "source": [
        "from sklearn.ensemble import RandomForestClassifier\n",
        "clf = RandomForestClassifier(max_features = 6, max_depth = 3, random_state = 0)\n",
        "clf.fit(train_x_scaled,train_y)\n",
        "\n",
        "print('Breast cancer dataset')\n",
        "print('Accuracy of RF classifier on training set: {:.2f}'\n",
        "     .format(clf.score(train_x_scaled,train_y)))\n",
        "print('Accuracy of RF classifier on test set: {:.2f}'\n",
        "     .format(clf.score(test_x_scaled,test_y)))"
      ],
      "execution_count": 33,
      "outputs": [
        {
          "output_type": "stream",
          "text": [
            "Breast cancer dataset\n",
            "Accuracy of RF classifier on training set: 0.98\n",
            "Accuracy of RF classifier on test set: 0.97\n"
          ],
          "name": "stdout"
        }
      ]
    },
    {
      "cell_type": "markdown",
      "metadata": {
        "id": "uSL-oxomSCnt",
        "colab_type": "text"
      },
      "source": [
        "# **Gradient boost descent decision tress**"
      ]
    },
    {
      "cell_type": "code",
      "metadata": {
        "id": "Ig5BtbITR2dT",
        "colab_type": "code",
        "colab": {
          "base_uri": "https://localhost:8080/",
          "height": 85
        },
        "outputId": "46819c91-b03e-457b-f95c-2272b0fdd24b"
      },
      "source": [
        "from sklearn.ensemble import GradientBoostingClassifier\n",
        "clf = GradientBoostingClassifier(random_state = 0)\n",
        "clf.fit(train_x_scaled,train_y)\n",
        "\n",
        "print('Breast cancer dataset (learning_rate=0.1, max_depth=3)')\n",
        "print('Accuracy of GBDT classifier on training set: {:.2f}'\n",
        "     .format(clf.score(train_x_scaled,train_y)))\n",
        "print('Accuracy of GBDT classifier on test set: {:.2f}\\n'\n",
        "     .format(clf.score(test_x_scaled,test_y )))\n"
      ],
      "execution_count": 35,
      "outputs": [
        {
          "output_type": "stream",
          "text": [
            "Breast cancer dataset (learning_rate=0.1, max_depth=3)\n",
            "Accuracy of GBDT classifier on training set: 1.00\n",
            "Accuracy of GBDT classifier on test set: 0.97\n",
            "\n"
          ],
          "name": "stdout"
        }
      ]
    },
    {
      "cell_type": "code",
      "metadata": {
        "id": "Zc0tYrKxSwwe",
        "colab_type": "code",
        "colab": {
          "base_uri": "https://localhost:8080/",
          "height": 85
        },
        "outputId": "d1607566-fdf9-4d0e-82fc-641ade9ae8b7"
      },
      "source": [
        "clf = GradientBoostingClassifier(learning_rate = 0.01, max_depth = 2, random_state = 0)\n",
        "clf.fit(train_x_scaled,train_y)\n",
        "\n",
        "print('Breast cancer dataset (learning_rate=0.1, max_depth=3)')\n",
        "print('Accuracy of GBDT classifier on training set: {:.2f}'\n",
        "     .format(clf.score(train_x_scaled,train_y)))\n",
        "print('Accuracy of GBDT classifier on test set: {:.2f}\\n'\n",
        "     .format(clf.score(test_x_scaled,test_y )))\n"
      ],
      "execution_count": 38,
      "outputs": [
        {
          "output_type": "stream",
          "text": [
            "Breast cancer dataset (learning_rate=0.1, max_depth=3)\n",
            "Accuracy of GBDT classifier on training set: 0.97\n",
            "Accuracy of GBDT classifier on test set: 0.96\n",
            "\n"
          ],
          "name": "stdout"
        }
      ]
    },
    {
      "cell_type": "markdown",
      "metadata": {
        "id": "ZiSWh8vLTL0R",
        "colab_type": "text"
      },
      "source": [
        "## **Neural Networks**"
      ]
    },
    {
      "cell_type": "code",
      "metadata": {
        "id": "4rv4p9D5S-H1",
        "colab_type": "code",
        "colab": {
          "base_uri": "https://localhost:8080/",
          "height": 170
        },
        "outputId": "997a7228-672f-449b-d181-c0e72dc45602"
      },
      "source": [
        "from sklearn.neural_network import MLPClassifier\n",
        "clf = MLPClassifier(hidden_layer_sizes = [100, 80], alpha = 2.0,\n",
        "                   random_state = 0, solver='lbfgs').fit(train_x_scaled,train_y)\n",
        "\n",
        "print('Breast cancer dataset')\n",
        "print('Accuracy of NN classifier on training set: {:.2f}'\n",
        "     .format(clf.score(train_x_scaled,train_y)))\n",
        "print('Accuracy of NN classifier on test set: {:.2f}'\n",
        "     .format(clf.score(test_x_scaled,test_y)))"
      ],
      "execution_count": 58,
      "outputs": [
        {
          "output_type": "stream",
          "text": [
            "Breast cancer dataset\n",
            "Accuracy of NN classifier on training set: 0.98\n",
            "Accuracy of NN classifier on test set: 0.98\n"
          ],
          "name": "stdout"
        },
        {
          "output_type": "stream",
          "text": [
            "/usr/local/lib/python3.6/dist-packages/sklearn/neural_network/_multilayer_perceptron.py:470: ConvergenceWarning: lbfgs failed to converge (status=1):\n",
            "STOP: TOTAL NO. of ITERATIONS REACHED LIMIT.\n",
            "\n",
            "Increase the number of iterations (max_iter) or scale the data as shown in:\n",
            "    https://scikit-learn.org/stable/modules/preprocessing.html\n",
            "  self.n_iter_ = _check_optimize_result(\"lbfgs\", opt_res, self.max_iter)\n"
          ],
          "name": "stderr"
        }
      ]
    },
    {
      "cell_type": "code",
      "metadata": {
        "id": "dtGwifrcT8IJ",
        "colab_type": "code",
        "colab": {}
      },
      "source": [
        ""
      ],
      "execution_count": null,
      "outputs": []
    }
  ]
}